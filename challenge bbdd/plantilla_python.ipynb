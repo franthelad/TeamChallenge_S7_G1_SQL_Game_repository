{
 "cells": [
  {
   "cell_type": "code",
   "execution_count": 1,
   "metadata": {},
   "outputs": [],
   "source": [
    "import pandas as pd\n",
    "import sqlite3"
   ]
  },
  {
   "cell_type": "code",
   "execution_count": 2,
   "metadata": {},
   "outputs": [],
   "source": [
    "conexion = sqlite3.connect('./data_csv/BD.bd')\n",
    "cursor = conexion.cursor()"
   ]
  },
  {
   "cell_type": "code",
   "execution_count": 3,
   "metadata": {},
   "outputs": [],
   "source": [
    "query = '''\n",
    "CREATE TABLE `Proveedores` (\n",
    "  `Id_Proveedor` INT NOT NULL,\n",
    "  `Nombre` VARCHAR(45) NULL,\n",
    "  `Direccion` VARCHAR(45) NULL,\n",
    "  `Telefono` VARCHAR(45) NULL,\n",
    "  `Email` VARCHAR(45) NULL,\n",
    "  PRIMARY KEY (`Id_Proveedor`))\n",
    "  '''"
   ]
  },
  {
   "cell_type": "code",
   "execution_count": 4,
   "metadata": {},
   "outputs": [
    {
     "data": {
      "text/plain": [
       "<sqlite3.Cursor at 0x210285c8240>"
      ]
     },
     "execution_count": 4,
     "metadata": {},
     "output_type": "execute_result"
    }
   ],
   "source": [
    "cursor.execute(query)"
   ]
  },
  {
   "cell_type": "code",
   "execution_count": 5,
   "metadata": {},
   "outputs": [],
   "source": [
    "query = '''\n",
    "CREATE TABLE `Productos` (\n",
    "  `Id_Productos` INT NOT NULL,\n",
    "  `Nombre` VARCHAR(45) NULL,\n",
    "  `Tipo` VARCHAR(45) NULL,\n",
    "  `Precio` VARCHAR(45) NULL,\n",
    "  `Id_Proveedor` INT NOT NULL,\n",
    "  PRIMARY KEY (`Id_Productos`),\n",
    "    FOREIGN KEY (`Id_Proveedor`)\n",
    "    REFERENCES`Proveedores` (`Id_Proveedor`)\n",
    "    ON DELETE CASCADE\n",
    "    ON UPDATE CASCADE)\n",
    "    '''"
   ]
  },
  {
   "cell_type": "code",
   "execution_count": 6,
   "metadata": {},
   "outputs": [
    {
     "data": {
      "text/plain": [
       "<sqlite3.Cursor at 0x210285c8240>"
      ]
     },
     "execution_count": 6,
     "metadata": {},
     "output_type": "execute_result"
    }
   ],
   "source": [
    "cursor.execute(query)"
   ]
  },
  {
   "cell_type": "code",
   "execution_count": 7,
   "metadata": {},
   "outputs": [],
   "source": [
    "query = '''\n",
    "CREATE TABLE `Stock` (\n",
    "  `Id_Producto` INT NOT NULL,\n",
    "  `Cantidad` INT NULL,\n",
    "  `Fecha_Recepcion` DATE NULL,\n",
    "  PRIMARY KEY (`Id_Producto`),\n",
    "  CONSTRAINT `Id_Producto`\n",
    "    FOREIGN KEY (`Id_Producto`)\n",
    "    REFERENCES`Productos` (`Id_Productos`)\n",
    "    ON DELETE CASCADE\n",
    "    ON UPDATE CASCADE)\n",
    "    '''"
   ]
  },
  {
   "cell_type": "code",
   "execution_count": 8,
   "metadata": {},
   "outputs": [
    {
     "data": {
      "text/plain": [
       "<sqlite3.Cursor at 0x210285c8240>"
      ]
     },
     "execution_count": 8,
     "metadata": {},
     "output_type": "execute_result"
    }
   ],
   "source": [
    "cursor.execute(query)"
   ]
  },
  {
   "cell_type": "code",
   "execution_count": 9,
   "metadata": {},
   "outputs": [],
   "source": [
    "query = '''\n",
    "CREATE TABLE `Facturas` (\n",
    "  `Id_Factura` INT NOT NULL,\n",
    "  `Fecha_Factura` DATE NULL,\n",
    "  `Importe` FLOAT NULL,\n",
    "  `Id_Proveedor` INT NULL,\n",
    "  PRIMARY KEY (`Id_Factura`),\n",
    "    FOREIGN KEY (`Id_Proveedor`)\n",
    "    REFERENCES `Proveedores` (`Id_Proveedor`)\n",
    "    ON DELETE NO ACTION\n",
    "    ON UPDATE NO ACTION)\n",
    "    '''"
   ]
  },
  {
   "cell_type": "code",
   "execution_count": 10,
   "metadata": {},
   "outputs": [
    {
     "data": {
      "text/plain": [
       "<sqlite3.Cursor at 0x210285c8240>"
      ]
     },
     "execution_count": 10,
     "metadata": {},
     "output_type": "execute_result"
    }
   ],
   "source": [
    "cursor.execute(query)"
   ]
  },
  {
   "cell_type": "code",
   "execution_count": 11,
   "metadata": {},
   "outputs": [],
   "source": [
    "query = '''\n",
    "CREATE TABLE `Detalle_Factura` (\n",
    "  `Id_Detalle` INT NOT NULL,\n",
    "  `Id_Factura` INT NOT NULL,\n",
    "  `Id_Producto` INT NOT NULL,\n",
    "  `Cantidad` INT NULL,\n",
    "  `Importe` FLOAT NULL,\n",
    "  `Fecha_Factura` DATE NULL,\n",
    "  PRIMARY KEY (`Id_Detalle`),\n",
    "    FOREIGN KEY (`Id_Factura`)\n",
    "    REFERENCES `Facturas` (`Id_Factura`)\n",
    "    ON DELETE NO ACTION\n",
    "    ON UPDATE NO ACTION,\n",
    "  CONSTRAINT `Id_Producto`\n",
    "    FOREIGN KEY (`Id_Producto`)\n",
    "    REFERENCES `Productos` (`Id_Productos`)\n",
    "    ON DELETE NO ACTION\n",
    "    ON UPDATE NO ACTION)\n",
    "    '''"
   ]
  },
  {
   "cell_type": "code",
   "execution_count": 12,
   "metadata": {},
   "outputs": [
    {
     "data": {
      "text/plain": [
       "<sqlite3.Cursor at 0x210285c8240>"
      ]
     },
     "execution_count": 12,
     "metadata": {},
     "output_type": "execute_result"
    }
   ],
   "source": [
    "cursor.execute(query)"
   ]
  },
  {
   "cell_type": "code",
   "execution_count": 13,
   "metadata": {},
   "outputs": [],
   "source": [
    "query = '''\n",
    "INSERT INTO `Proveedores` (`Id_Proveedor`, `Nombre`, `Direccion`, `Telefono`, `Email`)VALUES\n",
    "(0, 'Laboratorios Normon', 'Ronda de VAldecarrizo 6, 28760 , Madrid', '91 806 52 40', 'info@normon.com'),\n",
    "(6, 'Laboratorios Cinfa', 'Poligono Areta,10 , Navarra', '948 33 38 11', 'sac@cinfa.com'),\n",
    "(7, 'Laboratorios Sandoz', 'Avenida Osa MAyor, 4 , 28023, Madrid', '915488404', 'info@sandoz.com'),\n",
    "(8, 'Laboratorios Kern Farma', 'Poligono industrial Colom II, 08228, Terrassa, Barcelona', '937 00 2525', 'info@kernpharma.com'),\n",
    "(9, 'Laboratorios Ratiopharm', 'Calle Anabel Segura, 11, 28108, Alcobendas, Madrid', '915672970', 'info@ratiopharm.com'),\n",
    "(10, 'Novaltia', 'poligono la cruz, P_2_8, Lezama, Bizkaia', '946 71 91 00', 'novaltia@novaltia.es'),\n",
    "(11, 'Cofares', 'Poligono Lapatza 1 , 48970, Basauri, Bizkaia', '949 79 00 00', 'cofares@cofares.es'),\n",
    "(12, 'Laboratoios Nuxe', 'travesa de Gracia,122 . 08008, Barcelona', '947 88 90 00', 'nuxelaboratorio@nuxe.es'),\n",
    "(13, 'Faes Farma', 'Avenida Autonomia, 10 , 48940 , Leioa, Bizkaia', '944818300', 'faesfarma@faesfarma.es'),\n",
    "(14, 'GSK Espana', 'Calle Severo Ochoa, 2, 28760, Madrid', '946 78 98 99', 'gskespana@gsk.com')\n",
    "    '''"
   ]
  },
  {
   "cell_type": "code",
   "execution_count": 14,
   "metadata": {},
   "outputs": [],
   "source": [
    "cursor.execute(query)\n",
    "conexion.commit()"
   ]
  },
  {
   "cell_type": "code",
   "execution_count": 15,
   "metadata": {},
   "outputs": [],
   "source": [
    "query = '''\n",
    "INSERT INTO Productos (Id_Productos, Nombre, Tipo, Precio, Id_Proveedor) VALUES\n",
    "    (1, 'Ibuprofeno normon', 'Especialidad Farmaceutica', '2,37', 0),\n",
    "    (2, 'Ibuprofeno Cinfa', 'Especialidad Farmaceutica', '2,37', 6),\n",
    "    (3, 'Ibuprofeno Sandoz', 'Especialidad Farmaceutica', '2,37', 7),\n",
    "    (4, 'Ibuprofeno Kern', 'Especialidad Farmaceutica', '2,37', 8),\n",
    "    (5, 'Ibuprofeno Ratiopharm', 'Especialidad Farmaceutica', '2,37', 9),\n",
    "    (6, 'Crema Facial SPf 50', 'Parafarmacia', '6,77', 10),\n",
    "    (7, 'Gel Ducha Farline 150 ml', 'Parafarmacia', '4,50', 11),\n",
    "    (8, 'Huile Prodigeus, 50 ml', 'Parafarmacia', '11,50', 12),\n",
    "    (9, 'Hidroferol Ampollas Bebibles, 10 ml', 'Especialidad Farmaceutica', '12,50', 13),\n",
    "    (10, 'Frenadol Forte', 'Especialidad Farmaceutica', '5,90', 14)\n",
    "\n",
    "    '''"
   ]
  },
  {
   "cell_type": "code",
   "execution_count": 16,
   "metadata": {},
   "outputs": [],
   "source": [
    "cursor.execute(query)\n",
    "conexion.commit()"
   ]
  },
  {
   "cell_type": "code",
   "execution_count": 17,
   "metadata": {},
   "outputs": [],
   "source": [
    "query = '''\n",
    "INSERT INTO `Stock` (`Id_Producto`, `Cantidad`, `Fecha_Recepcion`) VALUES\n",
    "    (1, 45, '20/01/2024'),\n",
    "    (2, 105, '20/12/2023'),\n",
    "    (3, 5, '01/11/2023'),\n",
    "    (4, 10, '20/02/2024'),\n",
    "    (5, 16, '15/10/2023'),\n",
    "    (6, 10, '15/03/2023'),\n",
    "    (7, 20, '10/02/2024'),\n",
    "    (8, 25, '10/01/2024'),\n",
    "    (9, 65, '10/01/2024'),\n",
    "    (10, 220, '09/09/2023')\n",
    "\n",
    "    '''"
   ]
  },
  {
   "cell_type": "code",
   "execution_count": 18,
   "metadata": {},
   "outputs": [],
   "source": [
    "cursor.execute(query)\n",
    "conexion.commit()"
   ]
  },
  {
   "cell_type": "code",
   "execution_count": 19,
   "metadata": {},
   "outputs": [],
   "source": [
    "query = '''\n",
    "INSERT INTO `Facturas` (`Id_Factura`, `Fecha_Factura`, `Importe`, `Id_Proveedor`) VALUES\n",
    "(101, '20/01/2024', 440 , 0),\n",
    "(102, '20/12/2023', 248.85 , 6),\n",
    "(103, '01/11/2023', 11.75, 7),\n",
    "(104, '20/02/2024', 27.3 , 8),\n",
    "(105, '15/10/2023', 37.92 , 9),\n",
    "(106, '15/03/2023', 67.7, 10),\n",
    "(107, '10/02/2024', 90, 11),\n",
    "(108, '10/01/2024', 287.5 , 12),\n",
    "(109, '10/01/2024', 812.5 , 13),\n",
    "(110, '09/09/2023', 1298, 14)\n",
    "'''"
   ]
  },
  {
   "cell_type": "code",
   "execution_count": 20,
   "metadata": {},
   "outputs": [],
   "source": [
    "cursor.execute(query)\n",
    "conexion.commit()"
   ]
  },
  {
   "cell_type": "code",
   "execution_count": 21,
   "metadata": {},
   "outputs": [],
   "source": [
    "query = '''\n",
    "INSERT INTO `Detalle_Factura` (`Id_Detalle`, `Id_Factura`, `Id_Producto`, `Cantidad`, `Importe`, `Fecha_Factura`) VALUES\n",
    "(201, 101, 1, 45, 440, '20/01/2024'),\n",
    "(202, 102, 2, 105, 248.85, '20/12/2023'),\n",
    "(203, 103, 3, 5, 11.75, '01/11/2023'),\n",
    "(204, 104, 4, 10, 27.30, '20/02/2024'),\n",
    "(205, 105, 5, 16, 37.92, '15/10/2023'),\n",
    "(206, 106, 6, 10, 67.70, '15/03/2023'),\n",
    "(207, 107, 7, 20, 90, '10/02/2024'),\n",
    "(208, 108, 8, 25, 287.50, '10/01/2024'),\n",
    "(209, 109, 9, 65, 812.50, '10/01/2024'),\n",
    "(210, 110, 10, 220, 1298, '09/09/2023')\n",
    "'''"
   ]
  },
  {
   "cell_type": "code",
   "execution_count": 22,
   "metadata": {},
   "outputs": [],
   "source": [
    "cursor.execute(query)\n",
    "conexion.commit()"
   ]
  },
  {
   "cell_type": "code",
   "execution_count": 23,
   "metadata": {},
   "outputs": [],
   "source": [
    "def sql_query(query):\n",
    "    # Ejecuta la query\n",
    "    cursor.execute(query) # Recuerda que sólo funcionará si has llamado cursor_bootcamp\n",
    "                                    # a tu cursor, si no, cambia el nombre en todo el código de la función\n",
    "    # Almacena los datos de la query\n",
    "    ans = cursor.fetchall()\n",
    "    # Obtenemos los nombres de las columnas de la tabla\n",
    "    names = [description[0] for description in cursor.description]\n",
    "    return pd.DataFrame(ans,columns=names)"
   ]
  },
  {
   "cell_type": "code",
   "execution_count": 24,
   "metadata": {},
   "outputs": [],
   "source": [
    "query = '''\n",
    "SELECT *\n",
    "FROM Proveedores\n",
    "LEFT JOIN Facturas ON Proveedores.Id_Proveedor = Facturas.Id_Proveedor \n",
    "LEFT JOIN Detalle_Factura ON Facturas.Id_Factura = Detalle_Factura.Id_Factura\n",
    "GROUP BY Proveedores.Nombre\n",
    "ORDER BY Detalle_Factura.Fecha_Factura DESC\n",
    "'''\n",
    "\n",
    "df = sql_query(query)\n"
   ]
  },
  {
   "cell_type": "code",
   "execution_count": 25,
   "metadata": {},
   "outputs": [
    {
     "data": {
      "text/html": [
       "<div>\n",
       "<style scoped>\n",
       "    .dataframe tbody tr th:only-of-type {\n",
       "        vertical-align: middle;\n",
       "    }\n",
       "\n",
       "    .dataframe tbody tr th {\n",
       "        vertical-align: top;\n",
       "    }\n",
       "\n",
       "    .dataframe thead th {\n",
       "        text-align: right;\n",
       "    }\n",
       "</style>\n",
       "<table border=\"1\" class=\"dataframe\">\n",
       "  <thead>\n",
       "    <tr style=\"text-align: right;\">\n",
       "      <th></th>\n",
       "      <th>Id_Proveedor</th>\n",
       "      <th>Nombre</th>\n",
       "      <th>Direccion</th>\n",
       "      <th>Telefono</th>\n",
       "      <th>Email</th>\n",
       "      <th>Id_Factura</th>\n",
       "      <th>Fecha_Factura</th>\n",
       "      <th>Importe</th>\n",
       "      <th>Id_Proveedor</th>\n",
       "      <th>Id_Detalle</th>\n",
       "      <th>Id_Factura</th>\n",
       "      <th>Id_Producto</th>\n",
       "      <th>Cantidad</th>\n",
       "      <th>Importe</th>\n",
       "      <th>Fecha_Factura</th>\n",
       "    </tr>\n",
       "  </thead>\n",
       "  <tbody>\n",
       "    <tr>\n",
       "      <th>0</th>\n",
       "      <td>6</td>\n",
       "      <td>Laboratorios Cinfa</td>\n",
       "      <td>Poligono Areta,10 , Navarra</td>\n",
       "      <td>948 33 38 11</td>\n",
       "      <td>sac@cinfa.com</td>\n",
       "      <td>102</td>\n",
       "      <td>20/12/2023</td>\n",
       "      <td>248.85</td>\n",
       "      <td>6</td>\n",
       "      <td>202</td>\n",
       "      <td>102</td>\n",
       "      <td>2</td>\n",
       "      <td>105</td>\n",
       "      <td>248.85</td>\n",
       "      <td>20/12/2023</td>\n",
       "    </tr>\n",
       "    <tr>\n",
       "      <th>1</th>\n",
       "      <td>8</td>\n",
       "      <td>Laboratorios Kern Farma</td>\n",
       "      <td>Poligono industrial Colom II, 08228, Terrassa,...</td>\n",
       "      <td>937 00 2525</td>\n",
       "      <td>info@kernpharma.com</td>\n",
       "      <td>104</td>\n",
       "      <td>20/02/2024</td>\n",
       "      <td>27.30</td>\n",
       "      <td>8</td>\n",
       "      <td>204</td>\n",
       "      <td>104</td>\n",
       "      <td>4</td>\n",
       "      <td>10</td>\n",
       "      <td>27.30</td>\n",
       "      <td>20/02/2024</td>\n",
       "    </tr>\n",
       "    <tr>\n",
       "      <th>2</th>\n",
       "      <td>0</td>\n",
       "      <td>Laboratorios Normon</td>\n",
       "      <td>Ronda de VAldecarrizo 6, 28760 , Madrid</td>\n",
       "      <td>91 806 52 40</td>\n",
       "      <td>info@normon.com</td>\n",
       "      <td>101</td>\n",
       "      <td>20/01/2024</td>\n",
       "      <td>440.00</td>\n",
       "      <td>0</td>\n",
       "      <td>201</td>\n",
       "      <td>101</td>\n",
       "      <td>1</td>\n",
       "      <td>45</td>\n",
       "      <td>440.00</td>\n",
       "      <td>20/01/2024</td>\n",
       "    </tr>\n",
       "    <tr>\n",
       "      <th>3</th>\n",
       "      <td>9</td>\n",
       "      <td>Laboratorios Ratiopharm</td>\n",
       "      <td>Calle Anabel Segura, 11, 28108, Alcobendas, Ma...</td>\n",
       "      <td>915672970</td>\n",
       "      <td>info@ratiopharm.com</td>\n",
       "      <td>105</td>\n",
       "      <td>15/10/2023</td>\n",
       "      <td>37.92</td>\n",
       "      <td>9</td>\n",
       "      <td>205</td>\n",
       "      <td>105</td>\n",
       "      <td>5</td>\n",
       "      <td>16</td>\n",
       "      <td>37.92</td>\n",
       "      <td>15/10/2023</td>\n",
       "    </tr>\n",
       "    <tr>\n",
       "      <th>4</th>\n",
       "      <td>10</td>\n",
       "      <td>Novaltia</td>\n",
       "      <td>poligono la cruz, P_2_8, Lezama, Bizkaia</td>\n",
       "      <td>946 71 91 00</td>\n",
       "      <td>novaltia@novaltia.es</td>\n",
       "      <td>106</td>\n",
       "      <td>15/03/2023</td>\n",
       "      <td>67.70</td>\n",
       "      <td>10</td>\n",
       "      <td>206</td>\n",
       "      <td>106</td>\n",
       "      <td>6</td>\n",
       "      <td>10</td>\n",
       "      <td>67.70</td>\n",
       "      <td>15/03/2023</td>\n",
       "    </tr>\n",
       "    <tr>\n",
       "      <th>5</th>\n",
       "      <td>11</td>\n",
       "      <td>Cofares</td>\n",
       "      <td>Poligono Lapatza 1 , 48970, Basauri, Bizkaia</td>\n",
       "      <td>949 79 00 00</td>\n",
       "      <td>cofares@cofares.es</td>\n",
       "      <td>107</td>\n",
       "      <td>10/02/2024</td>\n",
       "      <td>90.00</td>\n",
       "      <td>11</td>\n",
       "      <td>207</td>\n",
       "      <td>107</td>\n",
       "      <td>7</td>\n",
       "      <td>20</td>\n",
       "      <td>90.00</td>\n",
       "      <td>10/02/2024</td>\n",
       "    </tr>\n",
       "    <tr>\n",
       "      <th>6</th>\n",
       "      <td>12</td>\n",
       "      <td>Laboratoios Nuxe</td>\n",
       "      <td>travesa de Gracia,122 . 08008, Barcelona</td>\n",
       "      <td>947 88 90 00</td>\n",
       "      <td>nuxelaboratorio@nuxe.es</td>\n",
       "      <td>108</td>\n",
       "      <td>10/01/2024</td>\n",
       "      <td>287.50</td>\n",
       "      <td>12</td>\n",
       "      <td>208</td>\n",
       "      <td>108</td>\n",
       "      <td>8</td>\n",
       "      <td>25</td>\n",
       "      <td>287.50</td>\n",
       "      <td>10/01/2024</td>\n",
       "    </tr>\n",
       "    <tr>\n",
       "      <th>7</th>\n",
       "      <td>13</td>\n",
       "      <td>Faes Farma</td>\n",
       "      <td>Avenida Autonomia, 10 , 48940 , Leioa, Bizkaia</td>\n",
       "      <td>944818300</td>\n",
       "      <td>faesfarma@faesfarma.es</td>\n",
       "      <td>109</td>\n",
       "      <td>10/01/2024</td>\n",
       "      <td>812.50</td>\n",
       "      <td>13</td>\n",
       "      <td>209</td>\n",
       "      <td>109</td>\n",
       "      <td>9</td>\n",
       "      <td>65</td>\n",
       "      <td>812.50</td>\n",
       "      <td>10/01/2024</td>\n",
       "    </tr>\n",
       "    <tr>\n",
       "      <th>8</th>\n",
       "      <td>14</td>\n",
       "      <td>GSK Espana</td>\n",
       "      <td>Calle Severo Ochoa, 2, 28760, Madrid</td>\n",
       "      <td>946 78 98 99</td>\n",
       "      <td>gskespana@gsk.com</td>\n",
       "      <td>110</td>\n",
       "      <td>09/09/2023</td>\n",
       "      <td>1298.00</td>\n",
       "      <td>14</td>\n",
       "      <td>210</td>\n",
       "      <td>110</td>\n",
       "      <td>10</td>\n",
       "      <td>220</td>\n",
       "      <td>1298.00</td>\n",
       "      <td>09/09/2023</td>\n",
       "    </tr>\n",
       "    <tr>\n",
       "      <th>9</th>\n",
       "      <td>7</td>\n",
       "      <td>Laboratorios Sandoz</td>\n",
       "      <td>Avenida Osa MAyor, 4 , 28023, Madrid</td>\n",
       "      <td>915488404</td>\n",
       "      <td>info@sandoz.com</td>\n",
       "      <td>103</td>\n",
       "      <td>01/11/2023</td>\n",
       "      <td>11.75</td>\n",
       "      <td>7</td>\n",
       "      <td>203</td>\n",
       "      <td>103</td>\n",
       "      <td>3</td>\n",
       "      <td>5</td>\n",
       "      <td>11.75</td>\n",
       "      <td>01/11/2023</td>\n",
       "    </tr>\n",
       "  </tbody>\n",
       "</table>\n",
       "</div>"
      ],
      "text/plain": [
       "   Id_Proveedor                   Nombre  \\\n",
       "0             6       Laboratorios Cinfa   \n",
       "1             8  Laboratorios Kern Farma   \n",
       "2             0      Laboratorios Normon   \n",
       "3             9  Laboratorios Ratiopharm   \n",
       "4            10                 Novaltia   \n",
       "5            11                  Cofares   \n",
       "6            12         Laboratoios Nuxe   \n",
       "7            13               Faes Farma   \n",
       "8            14               GSK Espana   \n",
       "9             7      Laboratorios Sandoz   \n",
       "\n",
       "                                           Direccion      Telefono  \\\n",
       "0                        Poligono Areta,10 , Navarra  948 33 38 11   \n",
       "1  Poligono industrial Colom II, 08228, Terrassa,...   937 00 2525   \n",
       "2            Ronda de VAldecarrizo 6, 28760 , Madrid  91 806 52 40   \n",
       "3  Calle Anabel Segura, 11, 28108, Alcobendas, Ma...     915672970   \n",
       "4           poligono la cruz, P_2_8, Lezama, Bizkaia  946 71 91 00   \n",
       "5       Poligono Lapatza 1 , 48970, Basauri, Bizkaia  949 79 00 00   \n",
       "6           travesa de Gracia,122 . 08008, Barcelona  947 88 90 00   \n",
       "7     Avenida Autonomia, 10 , 48940 , Leioa, Bizkaia     944818300   \n",
       "8               Calle Severo Ochoa, 2, 28760, Madrid  946 78 98 99   \n",
       "9               Avenida Osa MAyor, 4 , 28023, Madrid     915488404   \n",
       "\n",
       "                     Email  Id_Factura Fecha_Factura  Importe  Id_Proveedor  \\\n",
       "0            sac@cinfa.com         102    20/12/2023   248.85             6   \n",
       "1      info@kernpharma.com         104    20/02/2024    27.30             8   \n",
       "2          info@normon.com         101    20/01/2024   440.00             0   \n",
       "3      info@ratiopharm.com         105    15/10/2023    37.92             9   \n",
       "4     novaltia@novaltia.es         106    15/03/2023    67.70            10   \n",
       "5       cofares@cofares.es         107    10/02/2024    90.00            11   \n",
       "6  nuxelaboratorio@nuxe.es         108    10/01/2024   287.50            12   \n",
       "7   faesfarma@faesfarma.es         109    10/01/2024   812.50            13   \n",
       "8        gskespana@gsk.com         110    09/09/2023  1298.00            14   \n",
       "9          info@sandoz.com         103    01/11/2023    11.75             7   \n",
       "\n",
       "   Id_Detalle  Id_Factura  Id_Producto  Cantidad  Importe Fecha_Factura  \n",
       "0         202         102            2       105   248.85    20/12/2023  \n",
       "1         204         104            4        10    27.30    20/02/2024  \n",
       "2         201         101            1        45   440.00    20/01/2024  \n",
       "3         205         105            5        16    37.92    15/10/2023  \n",
       "4         206         106            6        10    67.70    15/03/2023  \n",
       "5         207         107            7        20    90.00    10/02/2024  \n",
       "6         208         108            8        25   287.50    10/01/2024  \n",
       "7         209         109            9        65   812.50    10/01/2024  \n",
       "8         210         110           10       220  1298.00    09/09/2023  \n",
       "9         203         103            3         5    11.75    01/11/2023  "
      ]
     },
     "execution_count": 25,
     "metadata": {},
     "output_type": "execute_result"
    }
   ],
   "source": [
    "df.head(120)"
   ]
  }
 ],
 "metadata": {
  "kernelspec": {
   "display_name": "Python 3",
   "language": "python",
   "name": "python3"
  },
  "language_info": {
   "codemirror_mode": {
    "name": "ipython",
    "version": 3
   },
   "file_extension": ".py",
   "mimetype": "text/x-python",
   "name": "python",
   "nbconvert_exporter": "python",
   "pygments_lexer": "ipython3",
   "version": "3.10.0"
  }
 },
 "nbformat": 4,
 "nbformat_minor": 2
}
